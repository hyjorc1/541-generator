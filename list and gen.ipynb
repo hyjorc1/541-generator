{
 "cells": [
  {
   "cell_type": "code",
   "execution_count": 1,
   "metadata": {},
   "outputs": [],
   "source": [
    "import sys\n",
    "import dis\n",
    "import inspect"
   ]
  },
  {
   "cell_type": "markdown",
   "metadata": {},
   "source": [
    "Generator functions can generate a function that behaves like an iterator. They allow programmers to make an iteraor in a fast, easy and clean way without too much memory cost. To illustrate this, let us consider a simple Python example of building a list and return it."
   ]
  },
  {
   "cell_type": "code",
   "execution_count": 2,
   "metadata": {},
   "outputs": [],
   "source": [
    "# firstn with list\n",
    "def firstn(n):\n",
    "    num, nums = 0, []\n",
    "    while num < n:\n",
    "        nums.append(num)\n",
    "        num += 1\n",
    "    return nums"
   ]
  },
  {
   "cell_type": "markdown",
   "metadata": {},
   "source": [
    "By given an integer n, the function firstn return a full list with length n in memory. If n is really big number and each integer keeps 10 megabyte in memory, then we need to cost a lot of memory to extend our RAM. "
   ]
  },
  {
   "cell_type": "code",
   "execution_count": 3,
   "metadata": {},
   "outputs": [],
   "source": [
    "# firstn with generator pattern\n",
    "class firstn1(object):\n",
    "    def __init__(self, n):\n",
    "        self.n = n\n",
    "        self.num = 0\n",
    "\n",
    "    def __iter__(self):\n",
    "        return self\n",
    "\n",
    "    def __next__(self):\n",
    "        if self.num < self.n:\n",
    "            cur, self.num = self.num, self.num + 1\n",
    "        else:\n",
    "            raise StopIteration()\n",
    "        return cur"
   ]
  },
  {
   "cell_type": "markdown",
   "metadata": {},
   "source": [
    "To save memory space, we can implement the firstn1 as an object with generator pattern. Class firstn1 is iterable and it will perform as we expect. However, we need to write a bunch lines of code to implement it and the logic is expressed in a convoluted way."
   ]
  },
  {
   "cell_type": "code",
   "execution_count": 4,
   "metadata": {},
   "outputs": [],
   "source": [
    "# firstn generator\n",
    "def firstn2(n):\n",
    "    num = 0\n",
    "    while num < n:\n",
    "        yield num\n",
    "        num += 1"
   ]
  },
  {
   "cell_type": "code",
   "execution_count": 5,
   "metadata": {},
   "outputs": [
    {
     "name": "stdout",
     "output_type": "stream",
     "text": [
      "87624\n",
      "56\n",
      "120\n"
     ]
    }
   ],
   "source": [
    "l, o, g = firstn(10000), firstn1(10000), firstn2(10000)\n",
    "print(sys.getsizeof(l))  \n",
    "print(sys.getsizeof(o)) \n",
    "print(sys.getsizeof(g))"
   ]
  },
  {
   "cell_type": "code",
   "execution_count": 6,
   "metadata": {},
   "outputs": [
    {
     "name": "stdout",
     "output_type": "stream",
     "text": [
      "<class 'list'>\n",
      "<class '__main__.firstn1'>\n",
      "<class 'generator'>\n"
     ]
    }
   ],
   "source": [
    "print(type(l))\n",
    "print(type(o))\n",
    "print(type(g)) "
   ]
  },
  {
   "cell_type": "code",
   "execution_count": 7,
   "metadata": {},
   "outputs": [],
   "source": [
    "itr1, itr2, itr3 = iter(l), iter(o), iter(g)"
   ]
  },
  {
   "cell_type": "code",
   "execution_count": 8,
   "metadata": {},
   "outputs": [
    {
     "name": "stdout",
     "output_type": "stream",
     "text": [
      "56\n",
      "56\n",
      "120\n"
     ]
    }
   ],
   "source": [
    "print(sys.getsizeof(itr1))  \n",
    "print(sys.getsizeof(itr2)) \n",
    "print(sys.getsizeof(itr3))"
   ]
  },
  {
   "cell_type": "code",
   "execution_count": 9,
   "metadata": {},
   "outputs": [
    {
     "data": {
      "text/plain": [
       "1"
      ]
     },
     "execution_count": 9,
     "metadata": {},
     "output_type": "execute_result"
    }
   ],
   "source": [
    "frame = None\n",
    "def foo(x):\n",
    "    global frame\n",
    "    s = x\n",
    "    frame = inspect.currentframe()\n",
    "    return s\n",
    "foo(1)"
   ]
  },
  {
   "cell_type": "code",
   "execution_count": 10,
   "metadata": {},
   "outputs": [
    {
     "name": "stdout",
     "output_type": "stream",
     "text": [
      "Frame: <frame at 0x10c040540, file '<ipython-input-9-6df73ad12200>', line 6, code foo>\n",
      "Locals: {'x': 1, 's': 1}\n"
     ]
    }
   ],
   "source": [
    "print(\"Frame:\" ,frame)\n",
    "print(\"Locals:\",frame.f_locals)"
   ]
  },
  {
   "cell_type": "code",
   "execution_count": 11,
   "metadata": {},
   "outputs": [],
   "source": [
    "def foo(x,y):\n",
    "    print('yielding x')\n",
    "    yield x\n",
    "    print ('yielding y')\n",
    "    yield y\n",
    "g = foo(1, 2)"
   ]
  },
  {
   "cell_type": "code",
   "execution_count": 12,
   "metadata": {},
   "outputs": [
    {
     "name": "stdout",
     "output_type": "stream",
     "text": [
      "Name:              foo\n",
      "Filename:          <ipython-input-11-1e68f5d8ec40>\n",
      "Argument count:    2\n",
      "Kw-only arguments: 0\n",
      "Number of locals:  2\n",
      "Stack size:        2\n",
      "Flags:             OPTIMIZED, NEWLOCALS, GENERATOR, NOFREE\n",
      "Constants:\n",
      "   0: None\n",
      "   1: 'yielding x'\n",
      "   2: 'yielding y'\n",
      "Names:\n",
      "   0: print\n",
      "Variable names:\n",
      "   0: x\n",
      "   1: y\n"
     ]
    }
   ],
   "source": [
    "dis.show_code(g)"
   ]
  },
  {
   "cell_type": "code",
   "execution_count": 13,
   "metadata": {},
   "outputs": [
    {
     "name": "stdout",
     "output_type": "stream",
     "text": [
      "Last Instruction Pointer is at: -1\n"
     ]
    }
   ],
   "source": [
    "print('Last Instruction Pointer is at:', g.gi_frame.f_lasti)"
   ]
  },
  {
   "cell_type": "code",
   "execution_count": 14,
   "metadata": {},
   "outputs": [
    {
     "name": "stdout",
     "output_type": "stream",
     "text": [
      "  2           0 LOAD_GLOBAL              0 (print)\n",
      "              2 LOAD_CONST               1 ('yielding x')\n",
      "              4 CALL_FUNCTION            1\n",
      "              6 POP_TOP\n",
      "\n",
      "  3           8 LOAD_FAST                0 (x)\n",
      "             10 YIELD_VALUE\n",
      "             12 POP_TOP\n",
      "\n",
      "  4          14 LOAD_GLOBAL              0 (print)\n",
      "             16 LOAD_CONST               2 ('yielding y')\n",
      "             18 CALL_FUNCTION            1\n",
      "             20 POP_TOP\n",
      "\n",
      "  5          22 LOAD_FAST                1 (y)\n",
      "             24 YIELD_VALUE\n",
      "             26 POP_TOP\n",
      "             28 LOAD_CONST               0 (None)\n",
      "             30 RETURN_VALUE\n"
     ]
    }
   ],
   "source": [
    "dis.disco(g.gi_code, g.gi_frame.f_lasti)"
   ]
  },
  {
   "cell_type": "code",
   "execution_count": 15,
   "metadata": {},
   "outputs": [
    {
     "name": "stdout",
     "output_type": "stream",
     "text": [
      "yielding x\n"
     ]
    },
    {
     "data": {
      "text/plain": [
       "1"
      ]
     },
     "execution_count": 15,
     "metadata": {},
     "output_type": "execute_result"
    }
   ],
   "source": [
    "next(g)"
   ]
  },
  {
   "cell_type": "code",
   "execution_count": 16,
   "metadata": {},
   "outputs": [
    {
     "name": "stdout",
     "output_type": "stream",
     "text": [
      "Last Instruction Pointer is at: 10\n"
     ]
    }
   ],
   "source": [
    "print('Last Instruction Pointer is at:', g.gi_frame.f_lasti)"
   ]
  },
  {
   "cell_type": "code",
   "execution_count": 17,
   "metadata": {},
   "outputs": [
    {
     "name": "stdout",
     "output_type": "stream",
     "text": [
      "  2           0 LOAD_GLOBAL              0 (print)\n",
      "              2 LOAD_CONST               1 ('yielding x')\n",
      "              4 CALL_FUNCTION            1\n",
      "              6 POP_TOP\n",
      "\n",
      "  3           8 LOAD_FAST                0 (x)\n",
      "    -->      10 YIELD_VALUE\n",
      "             12 POP_TOP\n",
      "\n",
      "  4          14 LOAD_GLOBAL              0 (print)\n",
      "             16 LOAD_CONST               2 ('yielding y')\n",
      "             18 CALL_FUNCTION            1\n",
      "             20 POP_TOP\n",
      "\n",
      "  5          22 LOAD_FAST                1 (y)\n",
      "             24 YIELD_VALUE\n",
      "             26 POP_TOP\n",
      "             28 LOAD_CONST               0 (None)\n",
      "             30 RETURN_VALUE\n"
     ]
    }
   ],
   "source": [
    "dis.disco(g.gi_code, g.gi_frame.f_lasti)"
   ]
  },
  {
   "cell_type": "code",
   "execution_count": 18,
   "metadata": {},
   "outputs": [
    {
     "name": "stdout",
     "output_type": "stream",
     "text": [
      "yielding y\n"
     ]
    },
    {
     "data": {
      "text/plain": [
       "2"
      ]
     },
     "execution_count": 18,
     "metadata": {},
     "output_type": "execute_result"
    }
   ],
   "source": [
    "next(g)"
   ]
  },
  {
   "cell_type": "code",
   "execution_count": 19,
   "metadata": {},
   "outputs": [
    {
     "name": "stdout",
     "output_type": "stream",
     "text": [
      "Last Instruction Pointer is at: 24\n"
     ]
    }
   ],
   "source": [
    "print('Last Instruction Pointer is at:', g.gi_frame.f_lasti)"
   ]
  },
  {
   "cell_type": "code",
   "execution_count": 20,
   "metadata": {},
   "outputs": [
    {
     "name": "stdout",
     "output_type": "stream",
     "text": [
      "  2           0 LOAD_GLOBAL              0 (print)\n",
      "              2 LOAD_CONST               1 ('yielding x')\n",
      "              4 CALL_FUNCTION            1\n",
      "              6 POP_TOP\n",
      "\n",
      "  3           8 LOAD_FAST                0 (x)\n",
      "             10 YIELD_VALUE\n",
      "             12 POP_TOP\n",
      "\n",
      "  4          14 LOAD_GLOBAL              0 (print)\n",
      "             16 LOAD_CONST               2 ('yielding y')\n",
      "             18 CALL_FUNCTION            1\n",
      "             20 POP_TOP\n",
      "\n",
      "  5          22 LOAD_FAST                1 (y)\n",
      "    -->      24 YIELD_VALUE\n",
      "             26 POP_TOP\n",
      "             28 LOAD_CONST               0 (None)\n",
      "             30 RETURN_VALUE\n"
     ]
    }
   ],
   "source": [
    "dis.disco(g.gi_code, g.gi_frame.f_lasti)"
   ]
  },
  {
   "cell_type": "code",
   "execution_count": 21,
   "metadata": {},
   "outputs": [
    {
     "ename": "StopIteration",
     "evalue": "",
     "output_type": "error",
     "traceback": [
      "\u001b[0;31m---------------------------------------------------------------------------\u001b[0m",
      "\u001b[0;31mStopIteration\u001b[0m                             Traceback (most recent call last)",
      "\u001b[0;32m<ipython-input-21-e734f8aca5ac>\u001b[0m in \u001b[0;36m<module>\u001b[0;34m\u001b[0m\n\u001b[0;32m----> 1\u001b[0;31m \u001b[0mnext\u001b[0m\u001b[0;34m(\u001b[0m\u001b[0mg\u001b[0m\u001b[0;34m)\u001b[0m\u001b[0;34m\u001b[0m\u001b[0;34m\u001b[0m\u001b[0m\n\u001b[0m",
      "\u001b[0;31mStopIteration\u001b[0m: "
     ]
    }
   ],
   "source": [
    "next(g)"
   ]
  }
 ],
 "metadata": {
  "kernelspec": {
   "display_name": "Python 3",
   "language": "python",
   "name": "python3"
  },
  "language_info": {
   "codemirror_mode": {
    "name": "ipython",
    "version": 3
   },
   "file_extension": ".py",
   "mimetype": "text/x-python",
   "name": "python",
   "nbconvert_exporter": "python",
   "pygments_lexer": "ipython3",
   "version": "3.7.3"
  }
 },
 "nbformat": 4,
 "nbformat_minor": 2
}

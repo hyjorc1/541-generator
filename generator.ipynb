{
 "cells": [
  {
   "cell_type": "code",
   "execution_count": 1,
   "metadata": {},
   "outputs": [],
   "source": [
    "import inspect\n",
    "frame = None"
   ]
  },
  {
   "cell_type": "code",
   "execution_count": 2,
   "metadata": {},
   "outputs": [
    {
     "data": {
      "text/plain": [
       "3"
      ]
     },
     "execution_count": 2,
     "metadata": {},
     "output_type": "execute_result"
    }
   ],
   "source": [
    "def add_two_numbers(x, y):\n",
    "    global frame\n",
    "    s = x + y\n",
    "    frame = inspect.currentframe()\n",
    "    return s\n",
    "add_two_numbers(1,2)"
   ]
  },
  {
   "cell_type": "code",
   "execution_count": 3,
   "metadata": {},
   "outputs": [
    {
     "name": "stdout",
     "output_type": "stream",
     "text": [
      "Frame: <frame at 0x111226dc8, file '<ipython-input-2-72a7a1f979c0>', line 5, code add_two_numbers>\n"
     ]
    }
   ],
   "source": [
    "print(\"Frame:\" ,frame)"
   ]
  },
  {
   "cell_type": "code",
   "execution_count": 4,
   "metadata": {},
   "outputs": [
    {
     "name": "stdout",
     "output_type": "stream",
     "text": [
      "Locals: {'x': 1, 'y': 2, 's': 3}\n"
     ]
    }
   ],
   "source": [
    "print(\"Locals:\",frame.f_locals)"
   ]
  },
  {
   "cell_type": "code",
   "execution_count": 5,
   "metadata": {},
   "outputs": [],
   "source": [
    "import dis"
   ]
  },
  {
   "cell_type": "code",
   "execution_count": 6,
   "metadata": {},
   "outputs": [],
   "source": [
    "def gen_add_two_numbers(x, y):\n",
    "    s = x + y\n",
    "    yield s"
   ]
  },
  {
   "cell_type": "code",
   "execution_count": 7,
   "metadata": {},
   "outputs": [
    {
     "name": "stdout",
     "output_type": "stream",
     "text": [
      "Name:              gen_add_two_numbers\n",
      "Filename:          <ipython-input-6-fe1cc06d58f0>\n",
      "Argument count:    2\n",
      "Kw-only arguments: 0\n",
      "Number of locals:  3\n",
      "Stack size:        2\n",
      "Flags:             OPTIMIZED, NEWLOCALS, GENERATOR, NOFREE\n",
      "Constants:\n",
      "   0: None\n",
      "Variable names:\n",
      "   0: x\n",
      "   1: y\n",
      "   2: s\n"
     ]
    }
   ],
   "source": [
    "dis.show_code(gen_add_two_numbers(1,2))"
   ]
  },
  {
   "cell_type": "code",
   "execution_count": 8,
   "metadata": {},
   "outputs": [],
   "source": [
    "def gen_yield_two_numbers(x, y):\n",
    "    print('yielding x')\n",
    "    yield x\n",
    "    print ('yielding y')\n",
    "    yield y"
   ]
  },
  {
   "cell_type": "code",
   "execution_count": 9,
   "metadata": {},
   "outputs": [],
   "source": [
    "g = gen_yield_two_numbers(1,2)"
   ]
  },
  {
   "cell_type": "code",
   "execution_count": 10,
   "metadata": {},
   "outputs": [
    {
     "name": "stdout",
     "output_type": "stream",
     "text": [
      "<class 'generator'>\n"
     ]
    }
   ],
   "source": [
    "print(type(g))"
   ]
  },
  {
   "cell_type": "code",
   "execution_count": 11,
   "metadata": {},
   "outputs": [
    {
     "name": "stdout",
     "output_type": "stream",
     "text": [
      "Last Instruction Pointer is at: -1\n"
     ]
    }
   ],
   "source": [
    "print('Last Instruction Pointer is at:', g.gi_frame.f_lasti)"
   ]
  },
  {
   "cell_type": "code",
   "execution_count": 12,
   "metadata": {},
   "outputs": [
    {
     "name": "stdout",
     "output_type": "stream",
     "text": [
      "  2           0 LOAD_GLOBAL              0 (print)\n",
      "              2 LOAD_CONST               1 ('yielding x')\n",
      "              4 CALL_FUNCTION            1\n",
      "              6 POP_TOP\n",
      "\n",
      "  3           8 LOAD_FAST                0 (x)\n",
      "             10 YIELD_VALUE\n",
      "             12 POP_TOP\n",
      "\n",
      "  4          14 LOAD_GLOBAL              0 (print)\n",
      "             16 LOAD_CONST               2 ('yielding y')\n",
      "             18 CALL_FUNCTION            1\n",
      "             20 POP_TOP\n",
      "\n",
      "  5          22 LOAD_FAST                1 (y)\n",
      "             24 YIELD_VALUE\n",
      "             26 POP_TOP\n",
      "             28 LOAD_CONST               0 (None)\n",
      "             30 RETURN_VALUE\n"
     ]
    }
   ],
   "source": [
    "dis.disco(g.gi_code, g.gi_frame.f_lasti)"
   ]
  },
  {
   "cell_type": "code",
   "execution_count": 13,
   "metadata": {},
   "outputs": [
    {
     "name": "stdout",
     "output_type": "stream",
     "text": [
      "yielding x\n"
     ]
    },
    {
     "data": {
      "text/plain": [
       "1"
      ]
     },
     "execution_count": 13,
     "metadata": {},
     "output_type": "execute_result"
    }
   ],
   "source": [
    "next(g)"
   ]
  },
  {
   "cell_type": "code",
   "execution_count": 14,
   "metadata": {},
   "outputs": [
    {
     "name": "stdout",
     "output_type": "stream",
     "text": [
      "Last Instruction Pointer is at: 10\n"
     ]
    }
   ],
   "source": [
    "print('Last Instruction Pointer is at:', g.gi_frame.f_lasti)"
   ]
  },
  {
   "cell_type": "code",
   "execution_count": 15,
   "metadata": {},
   "outputs": [
    {
     "name": "stdout",
     "output_type": "stream",
     "text": [
      "  2           0 LOAD_GLOBAL              0 (print)\n",
      "              2 LOAD_CONST               1 ('yielding x')\n",
      "              4 CALL_FUNCTION            1\n",
      "              6 POP_TOP\n",
      "\n",
      "  3           8 LOAD_FAST                0 (x)\n",
      "    -->      10 YIELD_VALUE\n",
      "             12 POP_TOP\n",
      "\n",
      "  4          14 LOAD_GLOBAL              0 (print)\n",
      "             16 LOAD_CONST               2 ('yielding y')\n",
      "             18 CALL_FUNCTION            1\n",
      "             20 POP_TOP\n",
      "\n",
      "  5          22 LOAD_FAST                1 (y)\n",
      "             24 YIELD_VALUE\n",
      "             26 POP_TOP\n",
      "             28 LOAD_CONST               0 (None)\n",
      "             30 RETURN_VALUE\n"
     ]
    }
   ],
   "source": [
    "dis.disco(g.gi_code, g.gi_frame.f_lasti)"
   ]
  },
  {
   "cell_type": "code",
   "execution_count": 16,
   "metadata": {},
   "outputs": [
    {
     "name": "stdout",
     "output_type": "stream",
     "text": [
      "yielding y\n"
     ]
    },
    {
     "data": {
      "text/plain": [
       "2"
      ]
     },
     "execution_count": 16,
     "metadata": {},
     "output_type": "execute_result"
    }
   ],
   "source": [
    "next(g)"
   ]
  },
  {
   "cell_type": "code",
   "execution_count": 17,
   "metadata": {},
   "outputs": [
    {
     "name": "stdout",
     "output_type": "stream",
     "text": [
      "Last Instruction Pointer is at: 24\n"
     ]
    }
   ],
   "source": [
    "print('Last Instruction Pointer is at:', g.gi_frame.f_lasti)"
   ]
  },
  {
   "cell_type": "code",
   "execution_count": 18,
   "metadata": {},
   "outputs": [
    {
     "name": "stdout",
     "output_type": "stream",
     "text": [
      "  2           0 LOAD_GLOBAL              0 (print)\n",
      "              2 LOAD_CONST               1 ('yielding x')\n",
      "              4 CALL_FUNCTION            1\n",
      "              6 POP_TOP\n",
      "\n",
      "  3           8 LOAD_FAST                0 (x)\n",
      "             10 YIELD_VALUE\n",
      "             12 POP_TOP\n",
      "\n",
      "  4          14 LOAD_GLOBAL              0 (print)\n",
      "             16 LOAD_CONST               2 ('yielding y')\n",
      "             18 CALL_FUNCTION            1\n",
      "             20 POP_TOP\n",
      "\n",
      "  5          22 LOAD_FAST                1 (y)\n",
      "    -->      24 YIELD_VALUE\n",
      "             26 POP_TOP\n",
      "             28 LOAD_CONST               0 (None)\n",
      "             30 RETURN_VALUE\n"
     ]
    }
   ],
   "source": [
    "dis.disco(g.gi_code, g.gi_frame.f_lasti)"
   ]
  },
  {
   "cell_type": "code",
   "execution_count": 19,
   "metadata": {},
   "outputs": [
    {
     "ename": "StopIteration",
     "evalue": "",
     "output_type": "error",
     "traceback": [
      "\u001b[0;31m---------------------------------------------------------------------------\u001b[0m",
      "\u001b[0;31mStopIteration\u001b[0m                             Traceback (most recent call last)",
      "\u001b[0;32m<ipython-input-19-e734f8aca5ac>\u001b[0m in \u001b[0;36m<module>\u001b[0;34m\u001b[0m\n\u001b[0;32m----> 1\u001b[0;31m \u001b[0mnext\u001b[0m\u001b[0;34m(\u001b[0m\u001b[0mg\u001b[0m\u001b[0;34m)\u001b[0m\u001b[0;34m\u001b[0m\u001b[0;34m\u001b[0m\u001b[0m\n\u001b[0m",
      "\u001b[0;31mStopIteration\u001b[0m: "
     ]
    }
   ],
   "source": [
    "next(g)"
   ]
  },
  {
   "cell_type": "code",
   "execution_count": null,
   "metadata": {},
   "outputs": [],
   "source": []
  },
  {
   "cell_type": "code",
   "execution_count": null,
   "metadata": {},
   "outputs": [],
   "source": []
  }
 ],
 "metadata": {
  "kernelspec": {
   "display_name": "Python 3",
   "language": "python",
   "name": "python3"
  },
  "language_info": {
   "codemirror_mode": {
    "name": "ipython",
    "version": 3
   },
   "file_extension": ".py",
   "mimetype": "text/x-python",
   "name": "python",
   "nbconvert_exporter": "python",
   "pygments_lexer": "ipython3",
   "version": "3.7.3"
  }
 },
 "nbformat": 4,
 "nbformat_minor": 2
}
